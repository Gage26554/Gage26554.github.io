{
 "cells": [
  {
   "cell_type": "markdown",
   "id": "534c4c22",
   "metadata": {},
   "source": [
    "# HTML Notes\n",
    "## Tags\n",
    "Tags make up HTML Elements. There are opening tags, that can have attributes, and closing tags. Everything between these tags is the element \"content\".\n",
    "### Example"
   ]
  },
  {
   "cell_type": "code",
   "execution_count": 3,
   "id": "7976311d",
   "metadata": {},
   "outputs": [
    {
     "data": {
      "text/html": [
       "<b>This text is bold.</b>\n"
      ],
      "text/plain": [
       "<IPython.core.display.HTML object>"
      ]
     },
     "metadata": {},
     "output_type": "display_data"
    }
   ],
   "source": [
    "%%html\n",
    "<b>This text is bold.</b>"
   ]
  },
  {
   "cell_type": "markdown",
   "id": "1eac7d11",
   "metadata": {},
   "source": [
    "## Attributes\n",
    "The opening tag can have attribute, which modify the element.\n",
    "### Example"
   ]
  },
  {
   "cell_type": "code",
   "execution_count": 8,
   "id": "502a9b49",
   "metadata": {},
   "outputs": [
    {
     "data": {
      "text/html": [
       "<img src=\"https://media.fortniteapi.io/images/cosmetics/d454d00bb470afece897ed54e577fd35/v2/MI_CID_A_257_M_CatBurglar_Ghost_02/background.png\"/img>\n"
      ],
      "text/plain": [
       "<IPython.core.display.HTML object>"
      ]
     },
     "metadata": {},
     "output_type": "display_data"
    }
   ],
   "source": [
    "%%html\n",
    "<img src=\"https://media.fortniteapi.io/images/cosmetics/d454d00bb470afece897ed54e577fd35/v2/MI_CID_A_257_M_CatBurglar_Ghost_02/background.png\"/img>"
   ]
  },
  {
   "cell_type": "code",
   "execution_count": 9,
   "id": "a9797eda",
   "metadata": {},
   "outputs": [
    {
     "data": {
      "application/javascript": [
       "alert(\"Look out!! It's Shadow Midas!\");\n"
      ],
      "text/plain": [
       "<IPython.core.display.Javascript object>"
      ]
     },
     "metadata": {},
     "output_type": "display_data"
    }
   ],
   "source": [
    "%%js\n",
    "alert(\"Look out!! It's Shadow Midas!\");"
   ]
  },
  {
   "cell_type": "code",
   "execution_count": null,
   "id": "bdf56d81",
   "metadata": {},
   "outputs": [],
   "source": []
  }
 ],
 "metadata": {
  "kernelspec": {
   "display_name": "Python 3 (ipykernel)",
   "language": "python",
   "name": "python3"
  },
  "language_info": {
   "codemirror_mode": {
    "name": "ipython",
    "version": 3
   },
   "file_extension": ".py",
   "mimetype": "text/x-python",
   "name": "python",
   "nbconvert_exporter": "python",
   "pygments_lexer": "ipython3",
   "version": "3.9.1"
  }
 },
 "nbformat": 4,
 "nbformat_minor": 5
}
